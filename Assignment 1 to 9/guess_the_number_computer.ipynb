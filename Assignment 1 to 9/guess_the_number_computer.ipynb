{
  "nbformat": 4,
  "nbformat_minor": 0,
  "metadata": {
    "colab": {
      "provenance": []
    },
    "kernelspec": {
      "name": "python3",
      "display_name": "Python 3"
    },
    "language_info": {
      "name": "python"
    }
  },
  "cells": [
    {
      "cell_type": "code",
      "execution_count": 4,
      "metadata": {
        "colab": {
          "base_uri": "https://localhost:8080/"
        },
        "id": "07y_dS9C2Xyu",
        "outputId": "48893808-ea84-4804-fd86-9338dc4ff633"
      },
      "outputs": [
        {
          "output_type": "stream",
          "name": "stdout",
          "text": [
            "Welcome to Guess the Number!\n",
            "I have selected a number between 1 and 20. Try to guess it.\n",
            "Enter your guess: 5\n",
            "Too low! Try again.\n",
            "Enter your guess: 10\n",
            "Too low! Try again.\n",
            "Enter your guess: 15\n",
            "Too low! Try again.\n",
            "Enter your guess: 18\n",
            "Congratulations! You've guessed the number 18 in 4 attempts.\n"
          ]
        }
      ],
      "source": [
        "import random\n",
        "\n",
        "# Function to play the game\n",
        "def guess_the_number():\n",
        "    # Computer selects a random number between 1 and 20\n",
        "    computer_guess = random.randint(1, 20)\n",
        "    attempts = 0\n",
        "\n",
        "    print(\"Welcome to Guess the Number!\")\n",
        "    print(\"I have selected a number between 1 and 20. Try to guess it.\")\n",
        "\n",
        "    while True:\n",
        "        # Take user input\n",
        "        user_guess = int(input(\"Enter your guess: \"))\n",
        "        attempts += 1\n",
        "\n",
        "        # Check if the guess is correct\n",
        "        if user_guess < computer_guess:\n",
        "            print(\"Too low! Try again.\")\n",
        "        elif user_guess > computer_guess:\n",
        "            print(\"Too high! Try again.\")\n",
        "        else:\n",
        "            print(f\"Congratulations! You've guessed the number {computer_guess} in {attempts} attempts.\")\n",
        "            break\n",
        "\n",
        "\n",
        "guess_the_number()\n"
      ]
    }
  ]
}