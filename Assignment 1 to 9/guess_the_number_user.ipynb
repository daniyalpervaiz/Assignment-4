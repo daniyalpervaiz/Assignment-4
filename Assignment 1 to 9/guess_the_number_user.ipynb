{
  "nbformat": 4,
  "nbformat_minor": 0,
  "metadata": {
    "colab": {
      "provenance": []
    },
    "kernelspec": {
      "name": "python3",
      "display_name": "Python 3"
    },
    "language_info": {
      "name": "python"
    }
  },
  "cells": [
    {
      "cell_type": "code",
      "execution_count": 1,
      "metadata": {
        "colab": {
          "base_uri": "https://localhost:8080/"
        },
        "id": "-JA8B5ES6VO6",
        "outputId": "562403da-26bd-49b6-8850-3be79cae7766"
      },
      "outputs": [
        {
          "output_type": "stream",
          "name": "stdout",
          "text": [
            "Welcome to Guess the Number!\n",
            "I have chosen a number between 1 and 20.\n",
            "Enter your guess: 10\n",
            "Too low! Try again.\n",
            "Enter your guess: 15\n",
            "Too high! Try again.\n",
            "Enter your guess: 12\n",
            "Too low! Try again.\n",
            "Enter your guess: 13\n",
            "Congratulations! You guessed the number in 4 attempts.\n"
          ]
        }
      ],
      "source": [
        "import random\n",
        "\n",
        "def guess_the_number():\n",
        "    # Generate a random number between 1 and 20\n",
        "    number_to_guess = random.randint(1, 20)\n",
        "\n",
        "    print(\"Welcome to Guess the Number!\")\n",
        "    print(\"I have chosen a number between 1 and 20.\")\n",
        "\n",
        "    attempts = 0\n",
        "\n",
        "    while True:\n",
        "        # Ask the user to guess the number\n",
        "        guess = int(input(\"Enter your guess: \"))\n",
        "        attempts += 1\n",
        "\n",
        "        if guess < number_to_guess:\n",
        "            print(\"Too low! Try again.\")\n",
        "        elif guess > number_to_guess:\n",
        "            print(\"Too high! Try again.\")\n",
        "        else:\n",
        "            print(f\"Congratulations! You guessed the number in {attempts} attempts.\")\n",
        "            break\n",
        "\n",
        "\n",
        "guess_the_number()\n"
      ]
    }
  ]
}