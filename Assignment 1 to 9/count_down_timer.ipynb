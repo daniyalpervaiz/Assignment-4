{
  "nbformat": 4,
  "nbformat_minor": 0,
  "metadata": {
    "colab": {
      "provenance": []
    },
    "kernelspec": {
      "name": "python3",
      "display_name": "Python 3"
    },
    "language_info": {
      "name": "python"
    }
  },
  "cells": [
    {
      "cell_type": "markdown",
      "source": [
        " ***Count Down Timer***"
      ],
      "metadata": {
        "id": "slgjOmznLiGw"
      }
    },
    {
      "cell_type": "code",
      "execution_count": null,
      "metadata": {
        "id": "0keanx4TLgCH"
      },
      "outputs": [],
      "source": [
        "import time\n",
        "\n",
        "user_input=int(input(\"Enter countdown time in seconds:\")) #take user input in seconds\n",
        "\n",
        "\n",
        "while user_input>0:\n",
        "    print(user_input)\n",
        "    time.sleep(1) #this pause the time with 1 second\n",
        "    user_input-=1 #less the second\n",
        "print(\"Time's up\")"
      ]
    }
  ]
}