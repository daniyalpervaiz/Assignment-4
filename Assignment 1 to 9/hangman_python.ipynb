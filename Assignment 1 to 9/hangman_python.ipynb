{
  "nbformat": 4,
  "nbformat_minor": 0,
  "metadata": {
    "colab": {
      "provenance": []
    },
    "kernelspec": {
      "name": "python3",
      "display_name": "Python 3"
    },
    "language_info": {
      "name": "python"
    }
  },
  "cells": [
    {
      "cell_type": "markdown",
      "source": [
        "***Hangman***"
      ],
      "metadata": {
        "id": "_xYR7-7p6sCp"
      }
    },
    {
      "cell_type": "code",
      "execution_count": 1,
      "metadata": {
        "colab": {
          "base_uri": "https://localhost:8080/"
        },
        "id": "ps5a6tdL1pbT",
        "outputId": "4a4d8143-1745-43ba-ca54-c4f72db3235a"
      },
      "outputs": [
        {
          "output_type": "stream",
          "name": "stdout",
          "text": [
            "Welcome to Hangman!\n",
            "Word to guess: ______\n",
            "\n",
            "You have 6 attempts left. Guess a letter: a\n",
            "Correct guess!\n",
            "Current word: __a___\n",
            "\n",
            "You have 6 attempts left. Guess a letter: g\n",
            "Correct guess!\n",
            "Current word: __a_g_\n",
            "\n",
            "You have 6 attempts left. Guess a letter: o\n",
            "Correct guess!\n",
            "Current word: o_a_g_\n",
            "\n",
            "You have 6 attempts left. Guess a letter: r\n",
            "Correct guess!\n",
            "Current word: ora_g_\n",
            "\n",
            "You have 6 attempts left. Guess a letter: n\n",
            "Correct guess!\n",
            "Current word: orang_\n",
            "\n",
            "You have 6 attempts left. Guess a letter: e\n",
            "Correct guess!\n",
            "Current word: orange\n",
            "\n",
            "Congratulations! You've guessed the word: orange\n"
          ]
        }
      ],
      "source": [
        "import random\n",
        "\n",
        "def hangman():\n",
        "    # List of words\n",
        "    words = [\"apple\", \"banana\", \"grape\", \"orange\", \"pear\"]\n",
        "    word = random.choice(words)  # Select a random word from the list\n",
        "    guessed_word = \"_\" * len(word)  # Display underscores for each letter in the word\n",
        "    guessed_letters = []  # Track guessed letters\n",
        "    attempts = 6  # Number of wrong guesses allowed\n",
        "\n",
        "    print(\"Welcome to Hangman!\")\n",
        "    print(\"Word to guess:\", guessed_word)\n",
        "\n",
        "    while attempts > 0:\n",
        "        # Prompt the user to guess a letter\n",
        "        guess = input(f\"\\nYou have {attempts} attempts left. Guess a letter: \").lower()\n",
        "\n",
        "        # Check if the input is a valid letter\n",
        "        if len(guess) != 1 or not guess.isalpha():\n",
        "            print(\"Please enter a single letter.\")\n",
        "            continue\n",
        "\n",
        "        if guess in guessed_letters:\n",
        "            print(f\"You already guessed '{guess}'. Try a different letter.\")\n",
        "            continue\n",
        "\n",
        "        # Add the guess to the list of guessed letters\n",
        "        guessed_letters.append(guess)\n",
        "\n",
        "        # If the guess is correct, update the guessed_word\n",
        "        if guess in word:\n",
        "            guessed_word = \"\".join([guess if word[i] == guess else guessed_word[i] for i in range(len(word))])\n",
        "            print(\"Correct guess!\")\n",
        "        else:\n",
        "            attempts -= 1  # Decrease the number of attempts\n",
        "            print(f\"Wrong guess! {attempts} attempts remaining.\")\n",
        "\n",
        "        print(\"Current word:\", guessed_word)\n",
        "\n",
        "        # If the player guesses the word correctly, they win\n",
        "        if \"_\" not in guessed_word:\n",
        "            print(\"\\nCongratulations! You've guessed the word:\", word)\n",
        "            break\n",
        "    else:\n",
        "        print(\"\\nSorry, you've run out of attempts. The word was:\", word)\n",
        "\n",
        "# Start the game\n",
        "hangman()"
      ]
    }
  ]
}