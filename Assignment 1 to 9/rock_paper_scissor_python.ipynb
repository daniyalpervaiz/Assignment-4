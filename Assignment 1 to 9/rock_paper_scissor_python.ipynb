{
  "nbformat": 4,
  "nbformat_minor": 0,
  "metadata": {
    "colab": {
      "provenance": []
    },
    "kernelspec": {
      "name": "python3",
      "display_name": "Python 3"
    },
    "language_info": {
      "name": "python"
    }
  },
  "cells": [
    {
      "cell_type": "markdown",
      "source": [
        " ***Rock,Paper,Scissor***"
      ],
      "metadata": {
        "id": "fdoxnyZX8c3C"
      }
    },
    {
      "cell_type": "code",
      "execution_count": 2,
      "metadata": {
        "colab": {
          "base_uri": "https://localhost:8080/"
        },
        "id": "yB-ifAlB7PZU",
        "outputId": "9fe7a9b6-0294-41dc-d810-9cdf03ef1ff9"
      },
      "outputs": [
        {
          "output_type": "stream",
          "name": "stdout",
          "text": [
            "Enter rock, paper, or scissors: rock\n",
            "\n",
            "Your choice: rock\n",
            "Computer's choice: scissors\n",
            "You win!\n"
          ]
        }
      ],
      "source": [
        "import random\n",
        "\n",
        "def play_game():\n",
        "    # List of choices\n",
        "    choices = [\"rock\", \"paper\", \"scissors\"]\n",
        "\n",
        "    # Get the player's choice\n",
        "    player_choice = input(\"Enter rock, paper, or scissors: \").lower()\n",
        "\n",
        "    # Check if the player's input is valid\n",
        "    if player_choice not in choices:\n",
        "        print(\"Invalid choice! Please enter rock, paper, or scissors.\")\n",
        "        return\n",
        "\n",
        "    # Get the computer's choice (randomly selected)\n",
        "    computer_choice = random.choice(choices)\n",
        "\n",
        "    # Print both choices\n",
        "    print(f\"\\nYour choice: {player_choice}\")\n",
        "    print(f\"Computer's choice: {computer_choice}\")\n",
        "\n",
        "    # Determine the winner\n",
        "    if player_choice == computer_choice:\n",
        "        print(\"It's a tie!\")\n",
        "    elif (player_choice == \"rock\" and computer_choice == \"scissors\") or \\\n",
        "         (player_choice == \"scissors\" and computer_choice == \"paper\") or \\\n",
        "         (player_choice == \"paper\" and computer_choice == \"rock\"):\n",
        "        print(\"You win!\")\n",
        "    else:\n",
        "        print(\"You lose!\")\n",
        "\n",
        "# Start the game\n",
        "play_game()\n"
      ]
    }
  ]
}