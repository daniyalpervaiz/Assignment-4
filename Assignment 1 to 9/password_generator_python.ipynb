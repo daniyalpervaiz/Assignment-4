{
  "nbformat": 4,
  "nbformat_minor": 0,
  "metadata": {
    "colab": {
      "provenance": []
    },
    "kernelspec": {
      "name": "python3",
      "display_name": "Python 3"
    },
    "language_info": {
      "name": "python"
    }
  },
  "cells": [
    {
      "cell_type": "markdown",
      "source": [
        "***Password Generator***"
      ],
      "metadata": {
        "id": "4--lHKzCFZcF"
      }
    },
    {
      "cell_type": "code",
      "execution_count": 7,
      "metadata": {
        "colab": {
          "base_uri": "https://localhost:8080/"
        },
        "id": "xgQqHnnVFQgt",
        "outputId": "542659c1-bb54-4cef-8512-dfbfca725dda"
      },
      "outputs": [
        {
          "output_type": "stream",
          "name": "stdout",
          "text": [
            "Tell me the length of Password? it should be 8 or greater than 812\n",
            "Generated Password: dUMb&><uEfLu\n"
          ]
        }
      ],
      "source": [
        "import random\n",
        "import string\n",
        "user_password_length=int(input(\"Tell me the length of Password? it should be 8 or greater than 8\"))\n",
        "\n",
        "def generate_password(user_password_length):\n",
        "    # Define the characters to choose from\n",
        "    if user_password_length>=8:\n",
        "     characters = string.ascii_letters + string.digits + string.punctuation\n",
        "    # Generate a random password\n",
        "     password = ''.join(random.choice(characters) for _ in range(user_password_length))\n",
        "     return password\n",
        "    else:print(\"Password Should be 8 or greater than 8\")\n",
        "\n",
        "\n",
        "\n",
        "password = generate_password(user_password_length)\n",
        "print(\"Generated Password:\", password)"
      ]
    }
  ]
}