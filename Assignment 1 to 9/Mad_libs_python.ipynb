{
  "nbformat": 4,
  "nbformat_minor": 0,
  "metadata": {
    "colab": {
      "provenance": []
    },
    "kernelspec": {
      "name": "python3",
      "display_name": "Python 3"
    },
    "language_info": {
      "name": "python"
    }
  },
  "cells": [
    {
      "cell_type": "markdown",
      "source": [
        " ***Mad Libs Python***"
      ],
      "metadata": {
        "id": "ao4pqefWvkVt"
      }
    },
    {
      "cell_type": "code",
      "execution_count": 1,
      "metadata": {
        "colab": {
          "base_uri": "https://localhost:8080/"
        },
        "id": "83Da45J8tkb-",
        "outputId": "7d5d97ee-bb15-4e4b-eb42-ecb0d327daa2"
      },
      "outputs": [
        {
          "output_type": "stream",
          "name": "stdout",
          "text": [
            "Welcome to the Lost Treasure Madlib Game!\n",
            "Enter a name: Tony\n",
            "Enter a place: USA\n",
            "Enter an item: Gold\n",
            "Enter an adjective: Black\n",
            "Enter an animal: Cat\n",
            "Enter a verb (action word): Dance\n",
            "Enter a number: 6\n",
            "\n",
            "Here's your Lost Treasure story:\n",
            "\n",
            "One day, Tony went on an adventure to find a lost treasure hidden in USA. Along the way, Tony found a mysterious Gold that was said to lead to the treasure. As Tony walked deeper into the Black jungle, they were followed by a curious Cat. Suddenly, the Cat Dance and discovered a secret path. After walking for 6 hours, Tony finally reached the treasure and became rich!\n"
          ]
        }
      ],
      "source": [
        "\n",
        "def madlib():\n",
        "    print(\"Welcome to the Lost Treasure Madlib Game!\")\n",
        "\n",
        "    # user inputs\n",
        "    name = input(\"Enter a name: \")\n",
        "    place = input(\"Enter a place: \")\n",
        "    item = input(\"Enter an item: \")\n",
        "    adjective = input(\"Enter an adjective: \")\n",
        "    animal = input(\"Enter an animal: \")\n",
        "    verb = input(\"Enter a verb: \")\n",
        "    number = input(\"Enter a number: \")\n",
        "\n",
        "    # Create the Madlib story using the inputs\n",
        "    story = f\"One day, {name} went on an adventure to find a lost treasure hidden in {place}. Along the way, {name} found a mysterious {item} that was said to lead to the treasure. As {name} walked deeper into the {adjective} jungle, they were followed by a curious {animal}. Suddenly, the {animal} {verb} and discovered a secret path. After walking for {number} hours, {name} finally reached the treasure and became rich!\"\n",
        "\n",
        "    # Print the Madlib story\n",
        "    print(\"\\nHere's your Lost Treasure story:\\n\")\n",
        "    print(story)\n",
        "\n",
        "# Run the Madlib function\n",
        "madlib()\n"
      ]
    }
  ]
}